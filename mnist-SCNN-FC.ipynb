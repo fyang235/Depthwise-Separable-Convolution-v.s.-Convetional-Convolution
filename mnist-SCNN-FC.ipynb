{
 "cells": [
  {
   "cell_type": "markdown",
   "metadata": {},
   "source": [
    "# This file use SCNN network for image classification"
   ]
  },
  {
   "cell_type": "markdown",
   "metadata": {},
   "source": [
    "### Some pre-settings"
   ]
  },
  {
   "cell_type": "code",
   "execution_count": 1,
   "metadata": {
    "collapsed": true
   },
   "outputs": [],
   "source": [
    "\"\"\"\n",
    "some pre-settings to ensure the functioning of my GPU flatiom\n",
    "remove if not needed\n",
    "\"\"\"\n",
    "from tensorflow.compat.v1 import ConfigProto\n",
    "from tensorflow.compat.v1 import InteractiveSession\n",
    "config = ConfigProto()\n",
    "config.gpu_options.allow_growth = True\n",
    "session = InteractiveSession(config=config)\n"
   ]
  },
  {
   "cell_type": "markdown",
   "metadata": {},
   "source": [
    "### Build a model which employ FC head, keep in mind the number of parameters which should be the same as our FCN network."
   ]
  },
  {
   "cell_type": "code",
   "execution_count": 2,
   "metadata": {},
   "outputs": [
    {
     "name": "stderr",
     "output_type": "stream",
     "text": [
      "Using TensorFlow backend.\n"
     ]
    }
   ],
   "source": [
    "# model\n",
    "import os\n",
    "os.environ[\"CUDA_VISIBLE_DEVICES\"] = \"0\"\n",
    "\n",
    "import keras\n",
    "from keras.models import Sequential\n",
    "from keras.layers import Dense, Conv2D, MaxPooling2D, Flatten, Dropout, Activation, SeparableConv2D"
   ]
  },
  {
   "cell_type": "code",
   "execution_count": 3,
   "metadata": {},
   "outputs": [
    {
     "name": "stdout",
     "output_type": "stream",
     "text": [
      "WARNING:tensorflow:From /home/yang/.conda/envs/py3/lib/python3.6/site-packages/tensorflow/python/framework/op_def_library.py:263: colocate_with (from tensorflow.python.framework.ops) is deprecated and will be removed in a future version.\n",
      "Instructions for updating:\n",
      "Colocations handled automatically by placer.\n",
      "_________________________________________________________________\n",
      "Layer (type)                 Output Shape              Param #   \n",
      "=================================================================\n",
      "separable_conv2d_1 (Separabl (None, 26, 26, 32)        73        \n",
      "_________________________________________________________________\n",
      "separable_conv2d_2 (Separabl (None, 24, 24, 32)        1344      \n",
      "_________________________________________________________________\n",
      "separable_conv2d_3 (Separabl (None, 22, 22, 32)        1344      \n",
      "_________________________________________________________________\n",
      "separable_conv2d_4 (Separabl (None, 20, 20, 32)        1344      \n",
      "_________________________________________________________________\n",
      "max_pooling2d_1 (MaxPooling2 (None, 10, 10, 32)        0         \n",
      "_________________________________________________________________\n",
      "separable_conv2d_5 (Separabl (None, 8, 8, 64)          2400      \n",
      "_________________________________________________________________\n",
      "max_pooling2d_2 (MaxPooling2 (None, 4, 4, 64)          0         \n",
      "_________________________________________________________________\n",
      "separable_conv2d_6 (Separabl (None, 2, 2, 10)          1226      \n",
      "_________________________________________________________________\n",
      "max_pooling2d_3 (MaxPooling2 (None, 1, 1, 10)          0         \n",
      "_________________________________________________________________\n",
      "flatten_1 (Flatten)          (None, 10)                0         \n",
      "_________________________________________________________________\n",
      "dense_1 (Dense)              (None, 10)                110       \n",
      "=================================================================\n",
      "Total params: 7,841\n",
      "Trainable params: 7,841\n",
      "Non-trainable params: 0\n",
      "_________________________________________________________________\n"
     ]
    }
   ],
   "source": [
    "\"\"\"\n",
    "Using SeparableConv2D instead of Conv2D\n",
    "the number of parameters is quit small\n",
    "\"\"\"\n",
    "model = Sequential()\n",
    "model.add(SeparableConv2D(32, (3, 3), activation='relu', input_shape=[28, 28, 1]))\n",
    "model.add(SeparableConv2D(32, (3, 3), activation='relu'))\n",
    "model.add(SeparableConv2D(32, (3, 3), activation='relu'))\n",
    "model.add(SeparableConv2D(32, (3, 3), activation='relu'))\n",
    "model.add(MaxPooling2D((2, 2)))\n",
    "model.add(SeparableConv2D(64, (3, 3), activation='relu'))\n",
    "model.add(MaxPooling2D((2, 2)))\n",
    "model.add(SeparableConv2D(10, (3, 3), activation='relu'))\n",
    "model.add(MaxPooling2D((2, 2)))\n",
    "\n",
    "model.add(Flatten())\n",
    "model.add(Dense(10, activation='softmax'))\n",
    "\n",
    "model.summary()"
   ]
  },
  {
   "cell_type": "markdown",
   "metadata": {},
   "source": [
    "### Data preprocessing "
   ]
  },
  {
   "cell_type": "code",
   "execution_count": 4,
   "metadata": {},
   "outputs": [
    {
     "name": "stdout",
     "output_type": "stream",
     "text": [
      "x_train.shape:  (60000, 28, 28)\n",
      "y_train.shape:  (60000,)\n",
      "x_test.shape:  (10000, 28, 28)\n",
      "y_test.shape:  (10000,)\n"
     ]
    }
   ],
   "source": [
    "\"\"\"\n",
    "view the shape of dataset\n",
    "\"\"\"\n",
    "from keras.datasets import mnist\n",
    "\n",
    "(x_train, y_train), (x_test, y_test) = mnist.load_data()\n",
    "print('x_train.shape: ', x_train.shape)\n",
    "print('y_train.shape: ', y_train.shape)\n",
    "print('x_test.shape: ', x_test.shape)\n",
    "print('y_test.shape: ', y_test.shape)"
   ]
  },
  {
   "cell_type": "code",
   "execution_count": 5,
   "metadata": {},
   "outputs": [
    {
     "data": {
      "text/plain": [
       "'\\nuncomment because we use a RTX2060 GPU for training.\\nIf the dataset is too large for your system, for example you use CPU to train, you can sample only part of the data.\\nAnd print the sample size\\n'"
      ]
     },
     "execution_count": 5,
     "metadata": {},
     "output_type": "execute_result"
    }
   ],
   "source": [
    "\"\"\"\n",
    "uncomment because we use a RTX2060 GPU for training.\n",
    "If the dataset is too large for your system, for example you use CPU to train, you can sample only part of the data.\n",
    "And print the sample size\n",
    "\"\"\"\n",
    "# x_train = x_train[:1000]\n",
    "# y_train = y_train[:1000]\n",
    "# x_test  = x_test[:100]\n",
    "# y_test  = y_test[:100]\n",
    "\n",
    "# print('After downsampling: ')\n",
    "# print('x_train.shape: ', x_train.shape)\n",
    "# print('y_train.shape: ', y_train.shape)\n",
    "# print('x_test.shape: ', x_test.shape)\n",
    "# print('y_test.shape: ', y_test.shape)"
   ]
  },
  {
   "cell_type": "code",
   "execution_count": 6,
   "metadata": {},
   "outputs": [
    {
     "data": {
      "image/png": "[encoded data removed]",
      "text/plain": [
       "<Figure size 432x288 with 1 Axes>"
      ]
     },
     "metadata": {},
     "output_type": "display_data"
    }
   ],
   "source": [
    "\"\"\"\n",
    "visualize the data\n",
    "\"\"\"\n",
    "import matplotlib.pyplot as plt\n",
    "import numpy as np\n",
    "\n",
    "image1 = np.concatenate((x_train[0], x_train[1], x_train[2]), axis=1)\n",
    "image2 = np.concatenate((x_train[3], x_train[4], x_train[5]), axis=1)\n",
    "image = np.concatenate((image1, image2), axis=0)\n",
    "plt.imshow(image, cmap='gray')\n",
    "plt.show()"
   ]
  },
  {
   "cell_type": "code",
   "execution_count": 7,
   "metadata": {},
   "outputs": [
    {
     "name": "stdout",
     "output_type": "stream",
     "text": [
      "check the maximum value in the image: 255\n",
      "check data type: <class 'numpy.uint8'>\n"
     ]
    }
   ],
   "source": [
    "\"\"\"\n",
    "pre-processing and show show the shape of data\n",
    "\"\"\"\n",
    "print('check the maximum value in the image:', np.max(x_train[0]))\n",
    "print('check data type:', type(x_train[0,0,0]))\n",
    "\n",
    "x_train = x_train.reshape((x_train.shape[0], 28, 28, 1))\n",
    "x_test  = x_test.reshape((x_test.shape[0], 28, 28, 1))\n",
    "\n",
    "x_train = x_train.astype('float32')\n",
    "x_test  = x_test.astype('float32')\n",
    "x_train /= 255\n",
    "x_test /= 255\n",
    "\n",
    "# print('check labels:', y_train[:10])\n",
    "y_train = keras.utils.to_categorical(y_train, 10)\n",
    "y_test  = keras.utils.to_categorical(y_test, 10)\n",
    "# print('check label shape:', y_train.shape)\n",
    "# print('check labels:', y_train[:10])"
   ]
  },
  {
   "cell_type": "code",
   "execution_count": 8,
   "metadata": {
    "collapsed": true
   },
   "outputs": [],
   "source": [
    "\"\"\"\n",
    "settings for training\n",
    "\"\"\"\n",
    "model.compile(optimizer=keras.optimizers.RMSprop(),\n",
    "              loss=keras.losses.categorical_crossentropy,\n",
    "              metrics=[keras.metrics.categorical_accuracy])\n",
    "\n",
    "call_back_list = [\n",
    "    keras.callbacks.EarlyStopping(monitor = 'categorical_accuracy',\n",
    "                                  patience = 3),\n",
    "    \n",
    "    keras.callbacks.ModelCheckpoint(filepath='mnist-fc.h5', \n",
    "                                    monitor='val_loss', \n",
    "                                    save_best_only=True)\n",
    "                 ]"
   ]
  },
  {
   "cell_type": "code",
   "execution_count": 9,
   "metadata": {},
   "outputs": [
    {
     "name": "stdout",
     "output_type": "stream",
     "text": [
      "WARNING:tensorflow:From /home/yang/.conda/envs/py3/lib/python3.6/site-packages/tensorflow/python/ops/math_ops.py:3066: to_int32 (from tensorflow.python.ops.math_ops) is deprecated and will be removed in a future version.\n",
      "Instructions for updating:\n",
      "Use tf.cast instead.\n",
      "Train on 60000 samples, validate on 10000 samples\n",
      "Epoch 1/500\n",
      "60000/60000 [==============================] - 11s 179us/step - loss: 0.8811 - categorical_accuracy: 0.7054 - val_loss: 0.4919 - val_categorical_accuracy: 0.8336\n",
      "Epoch 2/500\n",
      "60000/60000 [==============================] - 9s 146us/step - loss: 0.2563 - categorical_accuracy: 0.9232 - val_loss: 0.1998 - val_categorical_accuracy: 0.9372\n",
      "Epoch 3/500\n",
      "60000/60000 [==============================] - 9s 147us/step - loss: 0.1775 - categorical_accuracy: 0.9463 - val_loss: 0.1431 - val_categorical_accuracy: 0.9553\n",
      "Epoch 4/500\n",
      "60000/60000 [==============================] - 9s 146us/step - loss: 0.1426 - categorical_accuracy: 0.9566 - val_loss: 0.1373 - val_categorical_accuracy: 0.9584\n",
      "Epoch 5/500\n",
      "60000/60000 [==============================] - 9s 146us/step - loss: 0.1187 - categorical_accuracy: 0.9637 - val_loss: 0.1433 - val_categorical_accuracy: 0.9546\n",
      "Epoch 6/500\n",
      "60000/60000 [==============================] - 9s 147us/step - loss: 0.1031 - categorical_accuracy: 0.9692 - val_loss: 0.0854 - val_categorical_accuracy: 0.9726\n",
      "Epoch 7/500\n",
      "60000/60000 [==============================] - 9s 146us/step - loss: 0.0892 - categorical_accuracy: 0.9727 - val_loss: 0.0911 - val_categorical_accuracy: 0.9707\n",
      "Epoch 8/500\n",
      "60000/60000 [==============================] - 9s 147us/step - loss: 0.0819 - categorical_accuracy: 0.9752 - val_loss: 0.1085 - val_categorical_accuracy: 0.9653\n",
      "Epoch 9/500\n",
      "60000/60000 [==============================] - 9s 146us/step - loss: 0.0728 - categorical_accuracy: 0.9781 - val_loss: 0.0746 - val_categorical_accuracy: 0.9765\n",
      "Epoch 10/500\n",
      "60000/60000 [==============================] - 9s 147us/step - loss: 0.0677 - categorical_accuracy: 0.9789 - val_loss: 0.0812 - val_categorical_accuracy: 0.9760\n",
      "Epoch 11/500\n",
      "60000/60000 [==============================] - 9s 147us/step - loss: 0.0627 - categorical_accuracy: 0.9806 - val_loss: 0.0552 - val_categorical_accuracy: 0.9822\n",
      "Epoch 12/500\n",
      "60000/60000 [==============================] - 9s 147us/step - loss: 0.0582 - categorical_accuracy: 0.9823 - val_loss: 0.0756 - val_categorical_accuracy: 0.9762\n",
      "Epoch 13/500\n",
      "60000/60000 [==============================] - 9s 146us/step - loss: 0.0548 - categorical_accuracy: 0.9832 - val_loss: 0.0550 - val_categorical_accuracy: 0.9830\n",
      "Epoch 14/500\n",
      "60000/60000 [==============================] - 9s 146us/step - loss: 0.0518 - categorical_accuracy: 0.9843 - val_loss: 0.0533 - val_categorical_accuracy: 0.9820\n",
      "Epoch 15/500\n",
      "60000/60000 [==============================] - 9s 146us/step - loss: 0.0490 - categorical_accuracy: 0.9848 - val_loss: 0.0908 - val_categorical_accuracy: 0.9723\n",
      "Epoch 16/500\n",
      "60000/60000 [==============================] - 9s 146us/step - loss: 0.0467 - categorical_accuracy: 0.9859 - val_loss: 0.0510 - val_categorical_accuracy: 0.9845\n",
      "Epoch 17/500\n",
      "60000/60000 [==============================] - 9s 147us/step - loss: 0.0443 - categorical_accuracy: 0.9865 - val_loss: 0.0559 - val_categorical_accuracy: 0.9829\n",
      "Epoch 18/500\n",
      "60000/60000 [==============================] - 9s 147us/step - loss: 0.0420 - categorical_accuracy: 0.9878 - val_loss: 0.0494 - val_categorical_accuracy: 0.9854\n",
      "Epoch 19/500\n",
      "60000/60000 [==============================] - 9s 147us/step - loss: 0.0403 - categorical_accuracy: 0.9874 - val_loss: 0.0509 - val_categorical_accuracy: 0.9849\n",
      "Epoch 20/500\n",
      "60000/60000 [==============================] - 9s 147us/step - loss: 0.0387 - categorical_accuracy: 0.9884 - val_loss: 0.0558 - val_categorical_accuracy: 0.9829\n",
      "Epoch 21/500\n",
      "60000/60000 [==============================] - 9s 147us/step - loss: 0.0375 - categorical_accuracy: 0.9882 - val_loss: 0.0470 - val_categorical_accuracy: 0.9855\n",
      "Epoch 22/500\n",
      "60000/60000 [==============================] - 9s 147us/step - loss: 0.0357 - categorical_accuracy: 0.9887 - val_loss: 0.0439 - val_categorical_accuracy: 0.9869\n",
      "Epoch 23/500\n",
      "60000/60000 [==============================] - 9s 146us/step - loss: 0.0338 - categorical_accuracy: 0.9890 - val_loss: 0.0556 - val_categorical_accuracy: 0.9842\n",
      "Epoch 24/500\n",
      "60000/60000 [==============================] - 9s 147us/step - loss: 0.0331 - categorical_accuracy: 0.9898 - val_loss: 0.0520 - val_categorical_accuracy: 0.9849\n",
      "Epoch 25/500\n",
      "60000/60000 [==============================] - 9s 146us/step - loss: 0.0314 - categorical_accuracy: 0.9900 - val_loss: 0.0483 - val_categorical_accuracy: 0.9843\n",
      "Epoch 26/500\n",
      "60000/60000 [==============================] - 9s 146us/step - loss: 0.0307 - categorical_accuracy: 0.9903 - val_loss: 0.0476 - val_categorical_accuracy: 0.9852\n",
      "Epoch 27/500\n",
      "60000/60000 [==============================] - 9s 148us/step - loss: 0.0288 - categorical_accuracy: 0.9908 - val_loss: 0.0482 - val_categorical_accuracy: 0.9868\n",
      "Epoch 28/500\n",
      "60000/60000 [==============================] - 9s 147us/step - loss: 0.0277 - categorical_accuracy: 0.9917 - val_loss: 0.0543 - val_categorical_accuracy: 0.9850\n",
      "Epoch 29/500\n",
      "60000/60000 [==============================] - 9s 147us/step - loss: 0.0278 - categorical_accuracy: 0.9912 - val_loss: 0.0528 - val_categorical_accuracy: 0.9837\n",
      "Epoch 30/500\n",
      "60000/60000 [==============================] - 9s 146us/step - loss: 0.0269 - categorical_accuracy: 0.9913 - val_loss: 0.0483 - val_categorical_accuracy: 0.9864\n",
      "Epoch 31/500\n",
      "60000/60000 [==============================] - 9s 145us/step - loss: 0.0260 - categorical_accuracy: 0.9917 - val_loss: 0.0550 - val_categorical_accuracy: 0.9848\n",
      "Epoch 32/500\n",
      "60000/60000 [==============================] - 9s 146us/step - loss: 0.0248 - categorical_accuracy: 0.9920 - val_loss: 0.0561 - val_categorical_accuracy: 0.9852\n",
      "Epoch 33/500\n",
      "60000/60000 [==============================] - 9s 146us/step - loss: 0.0240 - categorical_accuracy: 0.9924 - val_loss: 0.0502 - val_categorical_accuracy: 0.9862\n",
      "Epoch 34/500\n",
      "60000/60000 [==============================] - 9s 147us/step - loss: 0.0238 - categorical_accuracy: 0.9924 - val_loss: 0.0698 - val_categorical_accuracy: 0.9810\n",
      "Epoch 35/500\n",
      "60000/60000 [==============================] - 9s 146us/step - loss: 0.0223 - categorical_accuracy: 0.9928 - val_loss: 0.0485 - val_categorical_accuracy: 0.9861\n",
      "Epoch 36/500\n",
      "60000/60000 [==============================] - 9s 147us/step - loss: 0.0224 - categorical_accuracy: 0.9931 - val_loss: 0.0532 - val_categorical_accuracy: 0.9858\n",
      "Epoch 37/500\n",
      "60000/60000 [==============================] - 9s 147us/step - loss: 0.0217 - categorical_accuracy: 0.9931 - val_loss: 0.0532 - val_categorical_accuracy: 0.9859\n",
      "Epoch 38/500\n",
      "60000/60000 [==============================] - 9s 146us/step - loss: 0.0210 - categorical_accuracy: 0.9932 - val_loss: 0.0487 - val_categorical_accuracy: 0.9864\n",
      "Epoch 39/500\n",
      "60000/60000 [==============================] - 9s 146us/step - loss: 0.0208 - categorical_accuracy: 0.9938 - val_loss: 0.0531 - val_categorical_accuracy: 0.9859\n",
      "Epoch 40/500\n",
      "60000/60000 [==============================] - 9s 147us/step - loss: 0.0198 - categorical_accuracy: 0.9936 - val_loss: 0.0570 - val_categorical_accuracy: 0.9859\n",
      "Epoch 41/500\n",
      "60000/60000 [==============================] - 9s 147us/step - loss: 0.0191 - categorical_accuracy: 0.9935 - val_loss: 0.0601 - val_categorical_accuracy: 0.9852\n",
      "Epoch 42/500\n",
      "60000/60000 [==============================] - 9s 146us/step - loss: 0.0194 - categorical_accuracy: 0.9938 - val_loss: 0.0481 - val_categorical_accuracy: 0.9876\n"
     ]
    }
   ],
   "source": [
    "\"\"\"\n",
    "train a SCNN + FC model\n",
    "\"\"\"\n",
    "history = model.fit(x_train, y_train,\n",
    "          batch_size=64,\n",
    "          epochs=500,\n",
    "          validation_data=(x_test, y_test),\n",
    "          callbacks=call_back_list)"
   ]
  },
  {
   "cell_type": "code",
   "execution_count": 10,
   "metadata": {},
   "outputs": [
    {
     "data": {
      "image/png": "[encoded data removed]",
      "text/plain": [
       "<Figure size 432x288 with 1 Axes>"
      ]
     },
     "metadata": {},
     "output_type": "display_data"
    },
    {
     "data": {
      "image/png": "[encoded data removed]",
      "text/plain": [
       "<Figure size 432x288 with 1 Axes>"
      ]
     },
     "metadata": {},
     "output_type": "display_data"
    }
   ],
   "source": [
    "\"\"\"\n",
    "visualize the results\n",
    "\"\"\"\n",
    "acc = history.history['categorical_accuracy']\n",
    "val_acc = history.history['val_categorical_accuracy']\n",
    "loss = history.history['loss']\n",
    "val_loss = history.history['val_loss']\n",
    "\n",
    "epochs = range(1, len(acc) + 1)\n",
    "plt.plot(epochs, acc, 'bo', label='training accuracy')\n",
    "plt.plot(epochs, val_acc, 'b', label='validation accuracy')\n",
    "plt.title('SCNN + FC accuracy')\n",
    "plt.legend()\n",
    "\n",
    "plt.figure()\n",
    "plt.plot(epochs, loss, 'bo', label='training loss')\n",
    "plt.plot(epochs, val_loss, 'b', label='validation loss')\n",
    "plt.title('SCNN + FC loss')\n",
    "plt.legend()\n",
    "\n",
    "plt.show()"
   ]
  },
  {
   "cell_type": "code",
   "execution_count": null,
   "metadata": {
    "collapsed": true
   },
   "outputs": [],
   "source": []
  }
 ],
 "metadata": {
  "kernelspec": {
   "display_name": "Python 3",
   "language": "python",
   "name": "python3"
  },
  "language_info": {
   "codemirror_mode": {
    "name": "ipython",
    "version": 3
   },
   "file_extension": ".py",
   "mimetype": "text/x-python",
   "name": "python",
   "nbconvert_exporter": "python",
   "pygments_lexer": "ipython3",
   "version": "3.6.2"
  }
 },
 "nbformat": 4,
 "nbformat_minor": 2
}
