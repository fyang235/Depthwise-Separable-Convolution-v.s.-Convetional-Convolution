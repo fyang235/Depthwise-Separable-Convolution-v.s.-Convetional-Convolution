{
 "cells": [
  {
   "cell_type": "markdown",
   "metadata": {},
   "source": [
    "# This file use convetional CNN network for image classification"
   ]
  },
  {
   "cell_type": "markdown",
   "metadata": {},
   "source": [
    "### Some pre-settings"
   ]
  },
  {
   "cell_type": "code",
   "execution_count": 1,
   "metadata": {
    "collapsed": true
   },
   "outputs": [],
   "source": [
    "\"\"\"\n",
    "some pre-settings to ensure the functioning of my GPU flatiom\n",
    "remove if not needed\n",
    "\"\"\"\n",
    "from tensorflow.compat.v1 import ConfigProto\n",
    "from tensorflow.compat.v1 import InteractiveSession\n",
    "config = ConfigProto()\n",
    "config.gpu_options.allow_growth = True\n",
    "session = InteractiveSession(config=config)\n"
   ]
  },
  {
   "cell_type": "markdown",
   "metadata": {},
   "source": [
    "### Build a model which employ FC head, keep in mind the number of parameters which should be the same as our FCN network."
   ]
  },
  {
   "cell_type": "code",
   "execution_count": 2,
   "metadata": {},
   "outputs": [
    {
     "name": "stderr",
     "output_type": "stream",
     "text": [
      "Using TensorFlow backend.\n"
     ]
    }
   ],
   "source": [
    "# model\n",
    "import os\n",
    "os.environ[\"CUDA_VISIBLE_DEVICES\"] = \"0\"\n",
    "\n",
    "import keras\n",
    "from keras.models import Sequential\n",
    "from keras.layers import Dense, Conv2D, MaxPooling2D, Flatten, Dropout, Activation"
   ]
  },
  {
   "cell_type": "code",
   "execution_count": 3,
   "metadata": {},
   "outputs": [
    {
     "name": "stdout",
     "output_type": "stream",
     "text": [
      "WARNING:tensorflow:From /home/yang/.conda/envs/py3/lib/python3.6/site-packages/tensorflow/python/framework/op_def_library.py:263: colocate_with (from tensorflow.python.framework.ops) is deprecated and will be removed in a future version.\n",
      "Instructions for updating:\n",
      "Colocations handled automatically by placer.\n",
      "_________________________________________________________________\n",
      "Layer (type)                 Output Shape              Param #   \n",
      "=================================================================\n",
      "conv2d_1 (Conv2D)            (None, 26, 26, 16)        160       \n",
      "_________________________________________________________________\n",
      "max_pooling2d_1 (MaxPooling2 (None, 13, 13, 16)        0         \n",
      "_________________________________________________________________\n",
      "conv2d_2 (Conv2D)            (None, 11, 11, 32)        4640      \n",
      "_________________________________________________________________\n",
      "max_pooling2d_2 (MaxPooling2 (None, 5, 5, 32)          0         \n",
      "_________________________________________________________________\n",
      "conv2d_3 (Conv2D)            (None, 3, 3, 10)          2890      \n",
      "_________________________________________________________________\n",
      "max_pooling2d_3 (MaxPooling2 (None, 1, 1, 10)          0         \n",
      "_________________________________________________________________\n",
      "flatten_1 (Flatten)          (None, 10)                0         \n",
      "_________________________________________________________________\n",
      "dense_1 (Dense)              (None, 10)                110       \n",
      "=================================================================\n",
      "Total params: 7,800\n",
      "Trainable params: 7,800\n",
      "Non-trainable params: 0\n",
      "_________________________________________________________________\n"
     ]
    }
   ],
   "source": [
    "\"\"\"\n",
    "Here we use conv2D instead of SeparableConv2D, \n",
    "the number of parameters would be large\n",
    "\"\"\"\n",
    "model = Sequential()\n",
    "model.add(Conv2D(16, (3, 3), activation='relu', input_shape=[28, 28, 1]))\n",
    "model.add(MaxPooling2D((2, 2)))\n",
    "model.add(Conv2D(32, (3, 3), activation='relu'))\n",
    "model.add(MaxPooling2D((2, 2)))\n",
    "model.add(Conv2D(10, (3, 3), activation='relu'))\n",
    "model.add(MaxPooling2D((2, 2)))\n",
    "\n",
    "model.add(Flatten())\n",
    "model.add(Dense(10, activation='softmax'))\n",
    "\n",
    "model.summary()"
   ]
  },
  {
   "cell_type": "markdown",
   "metadata": {},
   "source": [
    "### Data preprocessing "
   ]
  },
  {
   "cell_type": "code",
   "execution_count": 4,
   "metadata": {},
   "outputs": [
    {
     "name": "stdout",
     "output_type": "stream",
     "text": [
      "x_train.shape:  (60000, 28, 28)\n",
      "y_train.shape:  (60000,)\n",
      "x_test.shape:  (10000, 28, 28)\n",
      "y_test.shape:  (10000,)\n"
     ]
    }
   ],
   "source": [
    "\"\"\"\n",
    "view the shape of dataset\n",
    "\"\"\"\n",
    "from keras.datasets import mnist\n",
    "\n",
    "(x_train, y_train), (x_test, y_test) = mnist.load_data()\n",
    "print('x_train.shape: ', x_train.shape)\n",
    "print('y_train.shape: ', y_train.shape)\n",
    "print('x_test.shape: ', x_test.shape)\n",
    "print('y_test.shape: ', y_test.shape)"
   ]
  },
  {
   "cell_type": "code",
   "execution_count": 5,
   "metadata": {},
   "outputs": [
    {
     "data": {
      "text/plain": [
       "'\\nuncomment because we use a RTX2060 GPU for training.\\nIf the dataset is too large for your system, for example you use CPU to train, you can sample only part of the data.\\nAnd print the sample size\\n'"
      ]
     },
     "execution_count": 5,
     "metadata": {},
     "output_type": "execute_result"
    }
   ],
   "source": [
    "\"\"\"\n",
    "uncomment because we use a RTX2060 GPU for training.\n",
    "If the dataset is too large for your system, for example you use CPU to train, you can sample only part of the data.\n",
    "And print the sample size\n",
    "\"\"\"\n",
    "# x_train = x_train[:1000]\n",
    "# y_train = y_train[:1000]\n",
    "# x_test  = x_test[:100]\n",
    "# y_test  = y_test[:100]\n",
    "\n",
    "# print('After downsampling: ')\n",
    "# print('x_train.shape: ', x_train.shape)\n",
    "# print('y_train.shape: ', y_train.shape)\n",
    "# print('x_test.shape: ', x_test.shape)\n",
    "# print('y_test.shape: ', y_test.shape)"
   ]
  },
  {
   "cell_type": "code",
   "execution_count": 6,
   "metadata": {},
   "outputs": [
    {
     "data": {
      "image/png": "[encoded data removed]",
      "text/plain": [
       "<Figure size 432x288 with 1 Axes>"
      ]
     },
     "metadata": {},
     "output_type": "display_data"
    }
   ],
   "source": [
    "\"\"\"\n",
    "visualize the data\n",
    "\"\"\"\n",
    "import matplotlib.pyplot as plt\n",
    "import numpy as np\n",
    "\n",
    "image1 = np.concatenate((x_train[0], x_train[1], x_train[2]), axis=1)\n",
    "image2 = np.concatenate((x_train[3], x_train[4], x_train[5]), axis=1)\n",
    "image = np.concatenate((image1, image2), axis=0)\n",
    "plt.imshow(image, cmap='gray')\n",
    "plt.show()"
   ]
  },
  {
   "cell_type": "code",
   "execution_count": 7,
   "metadata": {},
   "outputs": [
    {
     "name": "stdout",
     "output_type": "stream",
     "text": [
      "check the maximum value in the image: 255\n",
      "check data type: <class 'numpy.uint8'>\n"
     ]
    }
   ],
   "source": [
    "\"\"\"\n",
    "pre-processing and show show the shape of data\n",
    "\"\"\"\n",
    "print('check the maximum value in the image:', np.max(x_train[0]))\n",
    "print('check data type:', type(x_train[0,0,0]))\n",
    "\n",
    "x_train = x_train.reshape((x_train.shape[0], 28, 28, 1))\n",
    "x_test  = x_test.reshape((x_test.shape[0], 28, 28, 1))\n",
    "\n",
    "x_train = x_train.astype('float32')\n",
    "x_test  = x_test.astype('float32')\n",
    "x_train /= 255\n",
    "x_test /= 255\n",
    "\n",
    "# print('check labels:', y_train[:10])\n",
    "y_train = keras.utils.to_categorical(y_train, 10)\n",
    "y_test  = keras.utils.to_categorical(y_test, 10)\n",
    "# print('check label shape:', y_train.shape)\n",
    "# print('check labels:', y_train[:10])"
   ]
  },
  {
   "cell_type": "code",
   "execution_count": 8,
   "metadata": {
    "collapsed": true
   },
   "outputs": [],
   "source": [
    "\"\"\"\n",
    "settings for training\n",
    "\"\"\"\n",
    "model.compile(optimizer=keras.optimizers.RMSprop(),\n",
    "              loss=keras.losses.categorical_crossentropy,\n",
    "              metrics=[keras.metrics.categorical_accuracy])\n",
    "\n",
    "call_back_list = [\n",
    "    keras.callbacks.EarlyStopping(monitor = 'categorical_accuracy',\n",
    "                                  patience = 3),\n",
    "    \n",
    "    keras.callbacks.ModelCheckpoint(filepath='mnist-fc.h5', \n",
    "                                    monitor='val_loss', \n",
    "                                    save_best_only=True)\n",
    "                 ]"
   ]
  },
  {
   "cell_type": "code",
   "execution_count": 9,
   "metadata": {},
   "outputs": [
    {
     "name": "stdout",
     "output_type": "stream",
     "text": [
      "WARNING:tensorflow:From /home/yang/.conda/envs/py3/lib/python3.6/site-packages/tensorflow/python/ops/math_ops.py:3066: to_int32 (from tensorflow.python.ops.math_ops) is deprecated and will be removed in a future version.\n",
      "Instructions for updating:\n",
      "Use tf.cast instead.\n",
      "Train on 60000 samples, validate on 10000 samples\n",
      "Epoch 1/500\n",
      "60000/60000 [==============================] - 7s 112us/step - loss: 0.5722 - categorical_accuracy: 0.8265 - val_loss: 0.2290 - val_categorical_accuracy: 0.9271\n",
      "Epoch 2/500\n",
      "60000/60000 [==============================] - 5s 82us/step - loss: 0.1989 - categorical_accuracy: 0.9414 - val_loss: 0.1608 - val_categorical_accuracy: 0.9510\n",
      "Epoch 3/500\n",
      "60000/60000 [==============================] - 5s 81us/step - loss: 0.1459 - categorical_accuracy: 0.9557 - val_loss: 0.1137 - val_categorical_accuracy: 0.9661\n",
      "Epoch 4/500\n",
      "60000/60000 [==============================] - 5s 82us/step - loss: 0.1208 - categorical_accuracy: 0.9637 - val_loss: 0.1247 - val_categorical_accuracy: 0.9628\n",
      "Epoch 5/500\n",
      "60000/60000 [==============================] - 5s 82us/step - loss: 0.1049 - categorical_accuracy: 0.9679 - val_loss: 0.1187 - val_categorical_accuracy: 0.9624\n",
      "Epoch 6/500\n",
      "60000/60000 [==============================] - 5s 81us/step - loss: 0.0957 - categorical_accuracy: 0.9706 - val_loss: 0.0892 - val_categorical_accuracy: 0.9723\n",
      "Epoch 7/500\n",
      "60000/60000 [==============================] - 5s 82us/step - loss: 0.0867 - categorical_accuracy: 0.9740 - val_loss: 0.0953 - val_categorical_accuracy: 0.9719\n",
      "Epoch 8/500\n",
      "60000/60000 [==============================] - 5s 82us/step - loss: 0.0805 - categorical_accuracy: 0.9759 - val_loss: 0.0876 - val_categorical_accuracy: 0.9736\n",
      "Epoch 9/500\n",
      "60000/60000 [==============================] - 5s 81us/step - loss: 0.0756 - categorical_accuracy: 0.9770 - val_loss: 0.0844 - val_categorical_accuracy: 0.9736\n",
      "Epoch 10/500\n",
      "60000/60000 [==============================] - 5s 82us/step - loss: 0.0707 - categorical_accuracy: 0.9780 - val_loss: 0.0780 - val_categorical_accuracy: 0.9778\n",
      "Epoch 11/500\n",
      "60000/60000 [==============================] - 5s 82us/step - loss: 0.0675 - categorical_accuracy: 0.9787 - val_loss: 0.0833 - val_categorical_accuracy: 0.9749\n",
      "Epoch 12/500\n",
      "60000/60000 [==============================] - 5s 82us/step - loss: 0.0639 - categorical_accuracy: 0.9808 - val_loss: 0.0962 - val_categorical_accuracy: 0.9719\n",
      "Epoch 13/500\n",
      "60000/60000 [==============================] - 5s 83us/step - loss: 0.0606 - categorical_accuracy: 0.9815 - val_loss: 0.1061 - val_categorical_accuracy: 0.9692\n",
      "Epoch 14/500\n",
      "60000/60000 [==============================] - 5s 81us/step - loss: 0.0576 - categorical_accuracy: 0.9824 - val_loss: 0.0713 - val_categorical_accuracy: 0.9784\n",
      "Epoch 15/500\n",
      "60000/60000 [==============================] - 5s 82us/step - loss: 0.0549 - categorical_accuracy: 0.9829 - val_loss: 0.0765 - val_categorical_accuracy: 0.9779\n",
      "Epoch 16/500\n",
      "60000/60000 [==============================] - 5s 81us/step - loss: 0.0521 - categorical_accuracy: 0.9839 - val_loss: 0.0982 - val_categorical_accuracy: 0.9709\n",
      "Epoch 17/500\n",
      "60000/60000 [==============================] - 5s 81us/step - loss: 0.0501 - categorical_accuracy: 0.9846 - val_loss: 0.0842 - val_categorical_accuracy: 0.9765\n",
      "Epoch 18/500\n",
      "60000/60000 [==============================] - 5s 81us/step - loss: 0.0481 - categorical_accuracy: 0.9847 - val_loss: 0.0768 - val_categorical_accuracy: 0.9784\n",
      "Epoch 19/500\n",
      "60000/60000 [==============================] - 5s 81us/step - loss: 0.0475 - categorical_accuracy: 0.9853 - val_loss: 0.0739 - val_categorical_accuracy: 0.9797\n",
      "Epoch 20/500\n",
      "60000/60000 [==============================] - 5s 81us/step - loss: 0.0452 - categorical_accuracy: 0.9860 - val_loss: 0.0764 - val_categorical_accuracy: 0.9781\n",
      "Epoch 21/500\n",
      "60000/60000 [==============================] - 5s 82us/step - loss: 0.0436 - categorical_accuracy: 0.9869 - val_loss: 0.0724 - val_categorical_accuracy: 0.9802\n",
      "Epoch 22/500\n",
      "60000/60000 [==============================] - 5s 81us/step - loss: 0.0421 - categorical_accuracy: 0.9870 - val_loss: 0.0766 - val_categorical_accuracy: 0.9787\n",
      "Epoch 23/500\n",
      "60000/60000 [==============================] - 5s 81us/step - loss: 0.0406 - categorical_accuracy: 0.9875 - val_loss: 0.0731 - val_categorical_accuracy: 0.9806\n",
      "Epoch 24/500\n",
      "60000/60000 [==============================] - 5s 81us/step - loss: 0.0395 - categorical_accuracy: 0.9878 - val_loss: 0.0724 - val_categorical_accuracy: 0.9796\n",
      "Epoch 25/500\n",
      "60000/60000 [==============================] - 5s 82us/step - loss: 0.0373 - categorical_accuracy: 0.9884 - val_loss: 0.0732 - val_categorical_accuracy: 0.9817\n",
      "Epoch 26/500\n",
      "60000/60000 [==============================] - 5s 82us/step - loss: 0.0368 - categorical_accuracy: 0.9888 - val_loss: 0.0768 - val_categorical_accuracy: 0.9794\n",
      "Epoch 27/500\n",
      "60000/60000 [==============================] - 5s 82us/step - loss: 0.0353 - categorical_accuracy: 0.9893 - val_loss: 0.0794 - val_categorical_accuracy: 0.9797\n",
      "Epoch 28/500\n",
      "60000/60000 [==============================] - 5s 81us/step - loss: 0.0336 - categorical_accuracy: 0.9895 - val_loss: 0.0830 - val_categorical_accuracy: 0.9773\n",
      "Epoch 29/500\n",
      "60000/60000 [==============================] - 5s 82us/step - loss: 0.0323 - categorical_accuracy: 0.9899 - val_loss: 0.0909 - val_categorical_accuracy: 0.9764\n",
      "Epoch 30/500\n",
      "60000/60000 [==============================] - 5s 82us/step - loss: 0.0309 - categorical_accuracy: 0.9900 - val_loss: 0.0711 - val_categorical_accuracy: 0.9808\n",
      "Epoch 31/500\n",
      "60000/60000 [==============================] - 5s 81us/step - loss: 0.0304 - categorical_accuracy: 0.9901 - val_loss: 0.0787 - val_categorical_accuracy: 0.9801\n",
      "Epoch 32/500\n",
      "60000/60000 [==============================] - 5s 80us/step - loss: 0.0291 - categorical_accuracy: 0.9908 - val_loss: 0.0862 - val_categorical_accuracy: 0.9776\n",
      "Epoch 33/500\n",
      "60000/60000 [==============================] - 5s 82us/step - loss: 0.0275 - categorical_accuracy: 0.9912 - val_loss: 0.0850 - val_categorical_accuracy: 0.9800\n",
      "Epoch 34/500\n",
      "60000/60000 [==============================] - 6s 102us/step - loss: 0.0264 - categorical_accuracy: 0.9918 - val_loss: 0.0860 - val_categorical_accuracy: 0.9781\n",
      "Epoch 35/500\n",
      "60000/60000 [==============================] - 6s 100us/step - loss: 0.0269 - categorical_accuracy: 0.9919 - val_loss: 0.0961 - val_categorical_accuracy: 0.9770\n",
      "Epoch 36/500\n",
      "60000/60000 [==============================] - 6s 102us/step - loss: 0.0249 - categorical_accuracy: 0.9923 - val_loss: 0.0864 - val_categorical_accuracy: 0.9794\n",
      "Epoch 37/500\n",
      "60000/60000 [==============================] - 6s 101us/step - loss: 0.0238 - categorical_accuracy: 0.9925 - val_loss: 0.0789 - val_categorical_accuracy: 0.9811\n",
      "Epoch 38/500\n",
      "60000/60000 [==============================] - 6s 102us/step - loss: 0.0234 - categorical_accuracy: 0.9926 - val_loss: 0.0965 - val_categorical_accuracy: 0.9778\n",
      "Epoch 39/500\n",
      "60000/60000 [==============================] - 6s 102us/step - loss: 0.0220 - categorical_accuracy: 0.9933 - val_loss: 0.0916 - val_categorical_accuracy: 0.9793\n",
      "Epoch 40/500\n",
      "60000/60000 [==============================] - 6s 101us/step - loss: 0.0222 - categorical_accuracy: 0.9933 - val_loss: 0.0924 - val_categorical_accuracy: 0.9781\n",
      "Epoch 41/500\n",
      "60000/60000 [==============================] - 6s 102us/step - loss: 0.0204 - categorical_accuracy: 0.9940 - val_loss: 0.0868 - val_categorical_accuracy: 0.9809\n",
      "Epoch 42/500\n",
      "60000/60000 [==============================] - 6s 102us/step - loss: 0.0197 - categorical_accuracy: 0.9939 - val_loss: 0.0921 - val_categorical_accuracy: 0.9791\n",
      "Epoch 43/500\n",
      "60000/60000 [==============================] - 6s 101us/step - loss: 0.0190 - categorical_accuracy: 0.9940 - val_loss: 0.0838 - val_categorical_accuracy: 0.9821\n",
      "Epoch 44/500\n",
      "60000/60000 [==============================] - 6s 102us/step - loss: 0.0190 - categorical_accuracy: 0.9943 - val_loss: 0.0902 - val_categorical_accuracy: 0.9810\n",
      "Epoch 45/500\n",
      "60000/60000 [==============================] - 6s 102us/step - loss: 0.0184 - categorical_accuracy: 0.9940 - val_loss: 0.0932 - val_categorical_accuracy: 0.9793\n",
      "Epoch 46/500\n"
     ]
    },
    {
     "name": "stdout",
     "output_type": "stream",
     "text": [
      "60000/60000 [==============================] - 6s 102us/step - loss: 0.0180 - categorical_accuracy: 0.9946 - val_loss: 0.1015 - val_categorical_accuracy: 0.9791\n",
      "Epoch 47/500\n",
      "60000/60000 [==============================] - 6s 102us/step - loss: 0.0169 - categorical_accuracy: 0.9949 - val_loss: 0.0983 - val_categorical_accuracy: 0.9810\n",
      "Epoch 48/500\n",
      "60000/60000 [==============================] - 6s 102us/step - loss: 0.0162 - categorical_accuracy: 0.9948 - val_loss: 0.1123 - val_categorical_accuracy: 0.9767\n",
      "Epoch 49/500\n",
      "60000/60000 [==============================] - 6s 101us/step - loss: 0.0159 - categorical_accuracy: 0.9952 - val_loss: 0.1175 - val_categorical_accuracy: 0.9776\n",
      "Epoch 50/500\n",
      "60000/60000 [==============================] - 6s 102us/step - loss: 0.0156 - categorical_accuracy: 0.9954 - val_loss: 0.1084 - val_categorical_accuracy: 0.9789\n",
      "Epoch 51/500\n",
      "60000/60000 [==============================] - 6s 101us/step - loss: 0.0147 - categorical_accuracy: 0.9953 - val_loss: 0.1038 - val_categorical_accuracy: 0.9782\n",
      "Epoch 52/500\n",
      "60000/60000 [==============================] - 6s 102us/step - loss: 0.0153 - categorical_accuracy: 0.9953 - val_loss: 0.1084 - val_categorical_accuracy: 0.9778\n",
      "Epoch 53/500\n",
      "60000/60000 [==============================] - 6s 101us/step - loss: 0.0146 - categorical_accuracy: 0.9954 - val_loss: 0.0988 - val_categorical_accuracy: 0.9807\n"
     ]
    }
   ],
   "source": [
    "\"\"\"\n",
    "train a CNN + FC model\n",
    "\"\"\"\n",
    "history = model.fit(x_train, y_train,\n",
    "          batch_size=64,\n",
    "          epochs=500,\n",
    "          validation_data=(x_test, y_test),\n",
    "          callbacks=call_back_list)"
   ]
  },
  {
   "cell_type": "code",
   "execution_count": 10,
   "metadata": {},
   "outputs": [
    {
     "data": {
      "image/png": "[encoded data removed]",
      "text/plain": [
       "<Figure size 432x288 with 1 Axes>"
      ]
     },
     "metadata": {},
     "output_type": "display_data"
    },
    {
     "data": {
      "image/png": "[encoded data removed]",
      "text/plain": [
       "<Figure size 432x288 with 1 Axes>"
      ]
     },
     "metadata": {},
     "output_type": "display_data"
    }
   ],
   "source": [
    "\"\"\"\n",
    "visualize the results\n",
    "\"\"\"\n",
    "acc = history.history['categorical_accuracy']\n",
    "val_acc = history.history['val_categorical_accuracy']\n",
    "loss = history.history['loss']\n",
    "val_loss = history.history['val_loss']\n",
    "\n",
    "epochs = range(1, len(acc) + 1)\n",
    "plt.plot(epochs, acc, 'bo', label='training accuracy')\n",
    "plt.plot(epochs, val_acc, 'b', label='validation accuracy')\n",
    "plt.title('CNN + FC accuracy')\n",
    "plt.legend()\n",
    "\n",
    "plt.figure()\n",
    "plt.plot(epochs, loss, 'bo', label='training loss')\n",
    "plt.plot(epochs, val_loss, 'b', label='validation loss')\n",
    "plt.title('CNN + FC loss')\n",
    "plt.legend()\n",
    "\n",
    "plt.show()"
   ]
  },
  {
   "cell_type": "code",
   "execution_count": null,
   "metadata": {
    "collapsed": true
   },
   "outputs": [],
   "source": []
  }
 ],
 "metadata": {
  "kernelspec": {
   "display_name": "Python 3",
   "language": "python",
   "name": "python3"
  },
  "language_info": {
   "codemirror_mode": {
    "name": "ipython",
    "version": 3
   },
   "file_extension": ".py",
   "mimetype": "text/x-python",
   "name": "python",
   "nbconvert_exporter": "python",
   "pygments_lexer": "ipython3",
   "version": "3.6.2"
  }
 },
 "nbformat": 4,
 "nbformat_minor": 2
}
